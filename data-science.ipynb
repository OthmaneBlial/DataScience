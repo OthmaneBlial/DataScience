{
  "metadata": {
    "kernelspec": {
      "name": "python",
      "display_name": "Python (Pyodide)",
      "language": "python"
    },
    "language_info": {
      "codemirror_mode": {
        "name": "python",
        "version": 3
      },
      "file_extension": ".py",
      "mimetype": "text/x-python",
      "name": "python",
      "nbconvert_exporter": "python",
      "pygments_lexer": "ipython3",
      "version": "3.8"
    }
  },
  "nbformat_minor": 4,
  "nbformat": 4,
  "cells": [
    {
      "cell_type": "markdown",
      "source": "# Data Science Overview",
      "metadata": {}
    },
    {
      "cell_type": "markdown",
      "source": "In this notebook, we will explore the world of data science, including its programming languages, libraries, and tools. \nWe will also look at some arithmetic expression examples, and finally post our work on Github.",
      "metadata": {}
    },
    {
      "cell_type": "markdown",
      "source": "- **Python**: \"A popular choice for data science due to its simplicity and readability. Supports multiple programming paradigms.\"\n- **R**: \"A good language for statistical computing and graphics. Very extensible with many graphical techniques.\"\n- **SQL**: \"A standard language for managing and manipulating relational databases.\"",
      "metadata": {}
    },
    {
      "cell_type": "markdown",
      "source": "- **Pandas**: \"A Python library for data manipulation and analysis.\"\n- **NumPy**: \"A Python library for working with arrays as well as functions for linear algebra.\"\n- **Matplotlib**: \"A plotting library for Python and its numerical mathematics extension NumPy.\"",
      "metadata": {}
    },
    {
      "cell_type": "markdown",
      "source": "| Tool Name         | Description                                                                                   |\n|-------------------|-----------------------------------------------------------------------------------------------|\n| Jupyter Notebook  | A web-based interface for creating and sharing documents with live code, equations, visualizations. |\n| RStudio           | An integrated dev environment for R, a programming language for statistical computing and graphics. |\n| Tableau           | A data visualization software focused on business intelligence.                               |",
      "metadata": {}
    },
    {
      "cell_type": "markdown",
      "source": "Arithmetic Expressions\n----------------------\n\nArithmetic expressions are combinations of numbers and arithmetic operators that represent a single numerical value. In this section, we'll look at some examples of arithmetic expressions.\n\nExample 1: Addition\n-------------------\n\n5 + 3 = 8\n\nExample 2: Subtraction\n----------------------\n\n10 - 2 = 8\n\nExample 3: Multiplication\n-------------------------\n\n7 \\* 3 = 21\n\nExample 4: Division\n-------------------\n\n10 / 2 = 5",
      "metadata": {}
    },
    {
      "cell_type": "code",
      "source": "# Define variables\na = 5\nb = 3\nc = 2\n\n# Multiply a and b, then add c\nresult = (a * b) + c\n\n# Print the result\nprint(\"The result is:\", result)",
      "metadata": {
        "trusted": true
      },
      "outputs": [
        {
          "name": "stdout",
          "text": "The result is: 17\n",
          "output_type": "stream"
        }
      ],
      "execution_count": 1
    },
    {
      "cell_type": "markdown",
      "source": "# Define the number of minutes\nminutes = 180\n\n# Convert minutes to hours\nhours = minutes / 60\n\n# Print the result\nprint(minutes, \"minutes is equal to\", hours, \"hours\")\n",
      "metadata": {}
    },
    {
      "cell_type": "code",
      "source": "# Objectives\n- Learn the basics of Python programming and data manipulation using libraries such as Pandas and NumPy.\n- Gain experience working with real-world datasets and performing data analysis tasks.\n- Develop skills in data visualization and communicating analysis results effectively.",
      "metadata": {
        "trusted": true
      },
      "outputs": [],
      "execution_count": null
    },
    {
      "cell_type": "code",
      "source": "# Author\nOthmane Blial",
      "metadata": {
        "trusted": true
      },
      "outputs": [],
      "execution_count": null
    }
  ]
}