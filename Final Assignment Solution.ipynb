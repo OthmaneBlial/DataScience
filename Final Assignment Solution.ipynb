{
  "metadata": {
    "kernelspec": {
      "name": "python",
      "display_name": "Python (Pyodide)",
      "language": "python"
    },
    "language_info": {
      "codemirror_mode": {
        "name": "python",
        "version": 3
      },
      "file_extension": ".py",
      "mimetype": "text/x-python",
      "name": "python",
      "nbconvert_exporter": "python",
      "pygments_lexer": "ipython3",
      "version": "3.8"
    }
  },
  "nbformat_minor": 4,
  "nbformat": 4,
  "cells": [
    {
      "cell_type": "markdown",
      "source": "<p style=\"text-align:center\">\n    <a href=\"https://skills.network/?utm_medium=Exinfluencer&utm_source=Exinfluencer&utm_content=000026UJ&utm_term=10006555&utm_id=NA-SkillsNetwork-Channel-SkillsNetworkCoursesIBMDeveloperSkillsNetworkPY0220ENSkillsNetwork900-2022-01-01\" target=\"_blank\">\n    <img src=\"https://cf-courses-data.s3.us.cloud-object-storage.appdomain.cloud/assets/logos/SN_web_lightmode.png\" width=\"200\" alt=\"Skills Network Logo\">\n    </a>\n</p>\n",
      "metadata": {}
    },
    {
      "cell_type": "markdown",
      "source": "<h1>Extracting and Visualizing Stock Data</h1>\n<h2>Description</h2>\n",
      "metadata": {}
    },
    {
      "cell_type": "markdown",
      "source": "Extracting essential data from a dataset and displaying it is a necessary part of data science; therefore individuals can make correct decisions based on the data. In this assignment, you will extract some stock data, you will then display this data in a graph.\n",
      "metadata": {}
    },
    {
      "cell_type": "markdown",
      "source": "<h2>Table of Contents</h2>\n<div class=\"alert alert-block alert-info\" style=\"margin-top: 20px\">\n    <ul>\n        <li>Define a Function that Makes a Graph</li>\n        <li>Question 1: Use yfinance to Extract Stock Data</li>\n        <li>Question 2: Use Webscraping to Extract Tesla Revenue Data</li>\n        <li>Question 3: Use yfinance to Extract Stock Data</li>\n        <li>Question 4: Use Webscraping to Extract GME Revenue Data</li>\n        <li>Question 5: Plot Tesla Stock Graph</li>\n        <li>Question 6: Plot GameStop Stock Graph</li>\n    </ul>\n<p>\n    Estimated Time Needed: <strong>30 min</strong></p>\n</div>\n\n<hr>\n",
      "metadata": {}
    },
    {
      "cell_type": "markdown",
      "source": "***Note***:- If you are working in IBM Cloud Watson Studio, please replace the command for installing nbformat from `!pip install nbformat==4.2.0` to simply `!pip install nbformat`\n",
      "metadata": {}
    },
    {
      "cell_type": "code",
      "source": "!pip install yfinance==0.1.67\n!mamba install bs4==4.10.0 -y\n!pip install nbformat==4.2.0",
      "metadata": {
        "trusted": true
      },
      "outputs": [],
      "execution_count": null
    },
    {
      "cell_type": "code",
      "source": "import yfinance as yf\nimport pandas as pd\nimport requests\nfrom bs4 import BeautifulSoup\nimport plotly.graph_objects as go\nfrom plotly.subplots import make_subplots",
      "metadata": {
        "trusted": true
      },
      "outputs": [],
      "execution_count": null
    },
    {
      "cell_type": "markdown",
      "source": "In Python, you can ignore warnings using the warnings module. You can use the filterwarnings function to filter or ignore specific warning messages or categories.\n",
      "metadata": {}
    },
    {
      "cell_type": "code",
      "source": "import warnings\n# Ignore all warnings\nwarnings.filterwarnings(\"ignore\", category=FutureWarning)",
      "metadata": {
        "trusted": true
      },
      "outputs": [],
      "execution_count": 6
    },
    {
      "cell_type": "markdown",
      "source": "## Define Graphing Function\n",
      "metadata": {}
    },
    {
      "cell_type": "markdown",
      "source": "In this section, we define the function `make_graph`. You don't have to know how the function works, you should only care about the inputs. It takes a dataframe with stock data (dataframe must contain Date and Close columns), a dataframe with revenue data (dataframe must contain Date and Revenue columns), and the name of the stock.\n",
      "metadata": {}
    },
    {
      "cell_type": "code",
      "source": "def make_graph(stock_data, revenue_data, stock):\n    fig = make_subplots(rows=2, cols=1, shared_xaxes=True, subplot_titles=(\"Historical Share Price\", \"Historical Revenue\"), vertical_spacing = .3)\n    stock_data_specific = stock_data[stock_data.Date <= '2021--06-14']\n    revenue_data_specific = revenue_data[revenue_data.Date <= '2021-04-30']\n    fig.add_trace(go.Scatter(x=pd.to_datetime(stock_data_specific.Date, infer_datetime_format=True), y=stock_data_specific.Close.astype(\"float\"), name=\"Share Price\"), row=1, col=1)\n    fig.add_trace(go.Scatter(x=pd.to_datetime(revenue_data_specific.Date, infer_datetime_format=True), y=revenue_data_specific.Revenue.astype(\"float\"), name=\"Revenue\"), row=2, col=1)\n    fig.update_xaxes(title_text=\"Date\", row=1, col=1)\n    fig.update_xaxes(title_text=\"Date\", row=2, col=1)\n    fig.update_yaxes(title_text=\"Price ($US)\", row=1, col=1)\n    fig.update_yaxes(title_text=\"Revenue ($US Millions)\", row=2, col=1)\n    fig.update_layout(showlegend=False,\n    height=900,\n    title=stock,\n    xaxis_rangeslider_visible=True)\n    fig.show()",
      "metadata": {
        "trusted": true
      },
      "outputs": [],
      "execution_count": 7
    },
    {
      "cell_type": "markdown",
      "source": "## Question 1: Use yfinance to Extract Stock Data\n",
      "metadata": {}
    },
    {
      "cell_type": "code",
      "source": "import yfinance as yf\n\ntesla_data = yf.download('TSLA', start='2012-01-01', end='2022-12-31')\n\ntesla_data = tesla_data.reset_index()\n\ntesla_data.head()",
      "metadata": {
        "trusted": true
      },
      "outputs": [],
      "execution_count": null
    },
    {
      "cell_type": "markdown",
      "source": "## Question 2: Use Webscraping to Extract Tesla Revenue Data\n",
      "metadata": {}
    },
    {
      "cell_type": "markdown",
      "source": "Use the `requests` library to download the webpage https://cf-courses-data.s3.us.cloud-object-storage.appdomain.cloud/IBMDeveloperSkillsNetwork-PY0220EN-SkillsNetwork/labs/project/revenue.htm Save the text of the response as a variable named `html_data`.\n",
      "metadata": {}
    },
    {
      "cell_type": "code",
      "source": "import requests\nfrom bs4 import BeautifulSoup\n\nurl = 'https://cf-courses-data.s3.us.cloud-object-storage.appdomain.cloud/IBMDeveloperSkillsNetwork-PY0220EN-SkillsNetwork/labs/project/revenue.htm'\nr = requests.get(url)\nr.content\n\nsoup = BeautifulSoup(r.content, 'html.parser')\n\ntable = soup.find('table', {'class': 'table'})\n\ntesla_revenue = pd.read_html(str(table))[0]\n\ntesla_revenue.columns = ['Date', 'Revenue']\n\ntesla_revenue.Date = pd.to_datetime(tesla_revenue.Date, format='%Y-%m-%d')\n\ntesla_revenue.Revenue = pd.to_numeric(tesla_revenue.Revenue.replace('[$,]', '', regex=True))\n\ntesla_revenue.tail()",
      "metadata": {
        "trusted": true
      },
      "outputs": [],
      "execution_count": null
    },
    {
      "cell_type": "markdown",
      "source": "## Question 3: Use yfinance to Extract Stock Data\n",
      "metadata": {}
    },
    {
      "cell_type": "code",
      "source": "import yfinance as yf\n\ngme_data = yf.download('GME', start='2012-01-01', end='2022-12-31')\n\ngme_data = gme_data.reset_index()\n\ngme_data.head()\n",
      "metadata": {
        "trusted": true
      },
      "outputs": [],
      "execution_count": null
    },
    {
      "cell_type": "markdown",
      "source": "## Question 4: Use Webscraping to Extract GME Revenue Data\n",
      "metadata": {}
    },
    {
      "cell_type": "markdown",
      "source": "Use the `requests` library to download the webpage https://cf-courses-data.s3.us.cloud-object-storage.appdomain.cloud/IBMDeveloperSkillsNetwork-PY0220EN-SkillsNetwork/labs/project/stock.html. Save the text of the response as a variable named `html_data`.\n",
      "metadata": {}
    },
    {
      "cell_type": "code",
      "source": "import requests\nfrom bs4 import BeautifulSoup\n\nurl = 'https://cf-courses-data.s3.us.cloud-object-storage.appdomain.cloud/IBMDeveloperSkillsNetwork-PY0220EN-SkillsNetwork/labs/project/stock.html'\nr = requests.get(url)\nhtml_data = r.text\n\nsoup = BeautifulSoup(html_data, 'html.parser')\n\ntable = soup.find('table', {'class': 'table'})\n\ngme_revenue = pd.read_html(str(table))[0]\n\ngme_revenue.columns = ['Date', 'Revenue']\n\ngme_revenue.Date = pd.to_datetime(gme_revenue.Date, format='%Y-%m-%d')\n\ngme_revenue.Revenue = pd.to_numeric(gme_revenue.Revenue.replace('[$,]', '', regex=True))\n\ngme_revenue.tail()\n",
      "metadata": {
        "trusted": true
      },
      "outputs": [],
      "execution_count": null
    },
    {
      "cell_type": "markdown",
      "source": "## Question 5: Plot Tesla Stock Graph\n",
      "metadata": {}
    },
    {
      "cell_type": "code",
      "source": "make_graph(tesla_data, tesla_revenue, 'Tesla')\n",
      "metadata": {
        "trusted": true
      },
      "outputs": [],
      "execution_count": null
    },
    {
      "cell_type": "markdown",
      "source": "## Question 6: Plot GameStop Stock Graph\n",
      "metadata": {}
    },
    {
      "cell_type": "code",
      "source": "make_graph(gme_data, gme_revenue, 'GameStop')\n",
      "metadata": {
        "trusted": true
      },
      "outputs": [],
      "execution_count": null
    }
  ]
}